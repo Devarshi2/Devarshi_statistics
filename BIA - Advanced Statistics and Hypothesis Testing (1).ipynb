{
 "cells": [
  {
   "cell_type": "markdown",
   "id": "95ecd176",
   "metadata": {},
   "source": [
    "## Central Limit Theorem"
   ]
  },
  {
   "cell_type": "code",
   "execution_count": null,
   "id": "651095b6",
   "metadata": {},
   "outputs": [],
   "source": [
    "#Importing necessary packages"
   ]
  },
  {
   "cell_type": "code",
   "execution_count": null,
   "id": "f2450449",
   "metadata": {},
   "outputs": [],
   "source": [
    "import pandas as pd               #for data manipulation and analysis\n",
    "import numpy as np                #for working with arrays.\n",
    "import matplotlib.pyplot as plt   #for plots and visualisations\n",
    "import seaborn as sns             #for visualisations\n",
    "%matplotlib inline \n",
    "\n",
    "import scipy.stats as stats       #for probability distribution and stastical functions"
   ]
  },
  {
   "cell_type": "markdown",
   "id": "1996e9b1",
   "metadata": {},
   "source": [
    "#### CLT\n",
    "Central Limit Theorem states that if we independently draw multiple samples from a population, take the mean of each sample and plot these (sample means), then the plot will tend to normal distribution as the size of samples increases, regardless of the shape of the population distribution."
   ]
  },
  {
   "cell_type": "markdown",
   "id": "e35793f6",
   "metadata": {},
   "source": [
    "#### When Distribution is Uniform"
   ]
  },
  {
   "cell_type": "code",
   "execution_count": null,
   "id": "dccd17f7",
   "metadata": {},
   "outputs": [],
   "source": [
    "# importing the required function\n",
    "from scipy.stats import uniform\n",
    "\n",
    "# setting the seed for reproducibility\n",
    "np.random.seed(1)\n",
    "# creating a uniform distribution population of size 100000\n",
    "uniform_pop = uniform.rvs(0, 10, size=100000)\n",
    "# visualizing the uniform distribution\n",
    "plt.hist(uniform_pop)\n",
    "plt.title(\"Uniform Distribution Population\")\n",
    "plt.xlabel(\"X~U(0,10)\")\n",
    "plt.ylabel(\"Count\")\n",
    "plt.show()"
   ]
  },
  {
   "cell_type": "markdown",
   "id": "1426fbfd",
   "metadata": {},
   "source": [
    "#### Let's create a sampling distribution from this population (sample size=5, number of samples = 500)"
   ]
  },
  {
   "cell_type": "code",
   "execution_count": null,
   "id": "506ae21b",
   "metadata": {},
   "outputs": [],
   "source": [
    "# set the seed for reproducibility\n",
    "np.random.seed(1)\n",
    "# set the sample size to 5\n",
    "n = 5\n",
    "# list to store sample means\n",
    "sample_means = []\n",
    "# iterate the loop to draw multiple samples\n",
    "for j in range(500):\n",
    "    # draw a sample of size n\n",
    "    sample = np.random.choice(uniform_pop, size=n)\n",
    "    # calculate the sample mean\n",
    "    sample_mean = np.mean(sample)\n",
    "    # append the sample mean to the sample_means list\n",
    "    sample_means.append(sample_mean)\n",
    "# plot the histogram of sample means\n",
    "sns.displot(sample_means, kde=True)\n",
    "plt.title(\"Distribution of Sample Means for n = \" + str(n))\n",
    "plt.xlabel(\"sample mean\")\n",
    "plt.ylabel(\"count\")\n",
    "plt.show()"
   ]
  },
  {
   "cell_type": "markdown",
   "id": "5d13dd7a",
   "metadata": {},
   "source": [
    "#### Sample size = 15"
   ]
  },
  {
   "cell_type": "code",
   "execution_count": null,
   "id": "906d312f",
   "metadata": {},
   "outputs": [],
   "source": [
    "# set the seed for reproducibility\n",
    "np.random.seed(1)\n",
    "# set the sample size to 15\n",
    "n = 15\n",
    "# list to store sample means\n",
    "sample_means = []\n",
    "# iterate the loop to draw multiple samples\n",
    "for j in range(500):\n",
    "    # draw a sample of size n\n",
    "    sample = np.random.choice(uniform_pop, size=n)\n",
    "    # calculate the sample mean\n",
    "    sample_mean = np.mean(sample)\n",
    "    # append the sample mean to the sample_means list\n",
    "    sample_means.append(sample_mean)\n",
    "# plot the histogram of sample means\n",
    "sns.displot(sample_means, kde=True)\n",
    "plt.title(\"Distribution of Sample Means for n = \" + str(n))\n",
    "plt.xlabel(\"sample mean\")\n",
    "plt.ylabel(\"count\")\n",
    "plt.show()"
   ]
  },
  {
   "cell_type": "markdown",
   "id": "1eaf5222",
   "metadata": {},
   "source": [
    "#### Sample size = 50"
   ]
  },
  {
   "cell_type": "code",
   "execution_count": null,
   "id": "91cada10",
   "metadata": {},
   "outputs": [],
   "source": [
    "# set the seed for reproducibility\n",
    "np.random.seed(1)\n",
    "# set the sample size to 50\n",
    "n = 50\n",
    "# iterate the loop to draw multiple samples\n",
    "for j in range(500):\n",
    "    # draw a sample of size n\n",
    "    sample = np.random.choice(uniform_pop, size=n)\n",
    "    # calculate the sample mean\n",
    "    sample_mean = np.mean(sample)\n",
    "    # append the sample mean to the sample_means list\n",
    "    sample_means.append(sample_mean)\n",
    "# plot the histogram of sample means\n",
    "sns.displot(sample_means, kde=True)\n",
    "plt.title(\"Distribution of Sample Means for n = \" + str(n))\n",
    "plt.xlabel(\"sample mean\")\n",
    "plt.ylabel(\"count\")\n",
    "plt.show()"
   ]
  },
  {
   "cell_type": "markdown",
   "id": "bff6ea6e",
   "metadata": {},
   "source": [
    "#### When Distribution is Normal"
   ]
  },
  {
   "cell_type": "code",
   "execution_count": null,
   "id": "1e07eecb",
   "metadata": {},
   "outputs": [],
   "source": [
    "# import the required function\n",
    "from scipy.stats import norm\n",
    "\n",
    "# set the seed for reproducibility\n",
    "np.random.seed(1)\n",
    "# create a normal distribution population of size 100000\n",
    "normal_pop = norm.rvs(0, 1, size=100000)\n",
    "# visualize the normal distribution\n",
    "plt.hist(normal_pop, 200)\n",
    "plt.title(\"Normal Distribution Population\")\n",
    "plt.xlabel(\"X~N(0,1)\")\n",
    "plt.ylabel(\"Count\")\n",
    "plt.show()"
   ]
  },
  {
   "cell_type": "markdown",
   "id": "f3280458",
   "metadata": {},
   "source": [
    "#### Sample size=5, number of samples = 500"
   ]
  },
  {
   "cell_type": "code",
   "execution_count": null,
   "id": "98e226a2",
   "metadata": {},
   "outputs": [],
   "source": [
    "# set the seed for reproducibility\n",
    "np.random.seed(1)\n",
    "# set the sample size to 5\n",
    "n = 5\n",
    "# list to store sample means\n",
    "sample_means = []\n",
    "# iterate the loop to draw multiple samples\n",
    "for j in range(500):\n",
    "  # draw a sample of size n\n",
    "  sample = np.random.choice(normal_pop, size = n)\n",
    "  # calculate the sample mean\n",
    "  sample_mean = np.mean(sample)\n",
    "  # append the sample mean to the sample_means list\n",
    "  sample_means.append(sample_mean)\n",
    "# plot the histogram of sample means\n",
    "sns.displot(sample_means, kde = True)\n",
    "plt.title('Distribution of Sample Means for n = ' + str(n))\n",
    "plt.xlabel('sample mean')\n",
    "plt.ylabel('count')\n",
    "plt.show()"
   ]
  },
  {
   "cell_type": "markdown",
   "id": "0a6e5d7a",
   "metadata": {},
   "source": [
    "#### Sample size = 30"
   ]
  },
  {
   "cell_type": "code",
   "execution_count": null,
   "id": "7e6790af",
   "metadata": {},
   "outputs": [],
   "source": [
    "# set the seed for reproducibility\n",
    "np.random.seed(1)\n",
    "# set the sample size to 30\n",
    "n = 30\n",
    "# list to store sample means\n",
    "sample_means = []\n",
    "# iterate the loop to draw multiple samples\n",
    "for j in range(500):\n",
    "    # draw a sample of size n\n",
    "    sample = np.random.choice(normal_pop, size=n)\n",
    "    # calculate the sample mean\n",
    "    sample_mean = np.mean(sample)\n",
    "    # append the sample mean to the sample_means list\n",
    "    sample_means.append(sample_mean)\n",
    "# plot the histogram of sample means\n",
    "sns.displot(sample_means, kde=True)\n",
    "plt.title(\"Distribution of Sample Means for n = \" + str(n))\n",
    "plt.xlabel(\"sample mean\")\n",
    "plt.ylabel(\"count\")\n",
    "plt.show()"
   ]
  },
  {
   "cell_type": "markdown",
   "id": "8861e4dc",
   "metadata": {},
   "source": [
    "#### When Distribution is Exponential"
   ]
  },
  {
   "cell_type": "code",
   "execution_count": null,
   "id": "589e9677",
   "metadata": {},
   "outputs": [],
   "source": [
    "# import the required function\n",
    "from scipy.stats import expon\n",
    "\n",
    "# set the seed for reproducibility\n",
    "np.random.seed(1)\n",
    "# create a exponential distribution population of size 100000\n",
    "exp_pop = expon.rvs(size=100000)\n",
    "# visualize the exponential distribution\n",
    "plt.hist(exp_pop, 200)\n",
    "plt.title(\"Exponential Distribution Population\")\n",
    "plt.xlabel(\"X~Exp(1)\")\n",
    "plt.ylabel(\"Count\")\n",
    "plt.show()"
   ]
  },
  {
   "cell_type": "markdown",
   "id": "89c00bcc",
   "metadata": {},
   "source": [
    "#### Sample size=5, number of samples = 500"
   ]
  },
  {
   "cell_type": "code",
   "execution_count": null,
   "id": "569451e3",
   "metadata": {},
   "outputs": [],
   "source": [
    "# set the seed for reproducibility\n",
    "np.random.seed(1)\n",
    "# set the sample size to 5\n",
    "n = 5\n",
    "# list to store sample means\n",
    "sample_means = []\n",
    "# iterate the loop to draw multiple samples\n",
    "for j in range(500):\n",
    "  # draw a sample of size n\n",
    "  sample = np.random.choice(exp_pop, size = n)\n",
    "  # calculate the sample mean\n",
    "  sample_mean = np.mean(sample)\n",
    "  # append the sample mean to the sample_means list\n",
    "  sample_means.append(sample_mean)\n",
    "# plot the histogram of sample means\n",
    "sns.displot(sample_means, kde = True)\n",
    "plt.title('Distribution of Sample Means for n = ' + str(n))\n",
    "plt.xlabel('sample mean')\n",
    "plt.ylabel('count')\n",
    "plt.show()"
   ]
  },
  {
   "cell_type": "markdown",
   "id": "f90e7403",
   "metadata": {},
   "source": [
    "#### Sample Size = 50 "
   ]
  },
  {
   "cell_type": "code",
   "execution_count": null,
   "id": "9dea2680",
   "metadata": {},
   "outputs": [],
   "source": [
    "# set the seed for reproducibility\n",
    "np.random.seed(1)\n",
    "# set the sample size to 50\n",
    "n = 50\n",
    "# list to store sample means\n",
    "sample_means = []\n",
    "# iterate the loop to draw multiple samples\n",
    "for j in range(500):\n",
    "    # draw a sample of size n\n",
    "    sample = np.random.choice(exp_pop, size=n)\n",
    "    # calculate the sample mean\n",
    "    sample_mean = np.mean(sample)\n",
    "    # append the sample mean to the sample_means list\n",
    "    sample_means.append(sample_mean)\n",
    "# plot the histogram of sample means\n",
    "sns.displot(sample_means, kde=True)\n",
    "plt.title(\"Distribution of Sample Means for n = \" + str(n))\n",
    "plt.xlabel(\"sample mean\")\n",
    "plt.ylabel(\"count\")\n",
    "plt.show()"
   ]
  },
  {
   "cell_type": "markdown",
   "id": "c901f5b4",
   "metadata": {},
   "source": [
    "### Confidence Interval"
   ]
  },
  {
   "cell_type": "markdown",
   "id": "779fe775",
   "metadata": {},
   "source": [
    "The caffeine content (in mg) was examined for a random sample of 50 cups of black coffee dispensed by a new coffee machine. The mean of the sample is found to be 110 mg. It is known that the standard deviation from all the machines of that manufacturer is 7 mg. Construct a 95% confidence interval for μ, the mean caffeine content for cups dispensed by the machine."
   ]
  },
  {
   "cell_type": "markdown",
   "id": "102c9ac9",
   "metadata": {},
   "source": [
    "#### When Population Standard Deviation is Known"
   ]
  },
  {
   "cell_type": "code",
   "execution_count": null,
   "id": "08f93a96",
   "metadata": {},
   "outputs": [],
   "source": [
    "# import the required function\n",
    "from scipy.stats import norm\n",
    "\n",
    "# set the values of sample mean and sigma\n",
    "x_bar, sigma = 110, 7\n",
    "\n",
    "# set the value of sample size\n",
    "n = 50\n",
    "\n",
    "# construct the confidence interval\n",
    "np.round(norm.interval(0.95, loc=x_bar, scale=sigma / np.sqrt(n)), 2)"
   ]
  },
  {
   "cell_type": "markdown",
   "id": "f1283110",
   "metadata": {},
   "source": [
    "#### When Population Standard Deviation is not known"
   ]
  },
  {
   "cell_type": "code",
   "execution_count": null,
   "id": "d569dfb6",
   "metadata": {},
   "outputs": [],
   "source": [
    "# import the required function\n",
    "from scipy.stats import t\n",
    "\n",
    "# set the values of sample mean and sample standard deviation\n",
    "x_bar, s = 110, 7\n",
    "\n",
    "# set the value of sample size and degrees of freedom\n",
    "n = 50\n",
    "k = n - 1\n",
    "\n",
    "# construct the confidence interval\n",
    "np.round(t.interval(0.95, df=k, loc=x_bar, scale=s / np.sqrt(n)), 2)"
   ]
  },
  {
   "cell_type": "markdown",
   "id": "8f701426",
   "metadata": {},
   "source": [
    "### Hypothesis Testing"
   ]
  },
  {
   "cell_type": "markdown",
   "id": "ed1513d4",
   "metadata": {},
   "source": [
    "#### One Sample Z-test (when population standard deviation is known)\n",
    "\n",
    "It is known from experience that for a certain E-commerce company the mean delivery time of the products is 5 days with a standard deviation of 1.3 days.\n",
    "\n",
    "The new customer service manager of the company is afraid that the company is slipping and collects a random sample of 45 orders. The mean delivery time of these samples comes out to be 5.25 days.\n",
    "\n",
    "Is there enough statistical evidence for the manager's apprehension that the mean delivery time of products is greater than 5 days.\n",
    "\n",
    "Use level of significance  𝛼\n",
    "  = 0.05"
   ]
  },
  {
   "cell_type": "markdown",
   "id": "cf799d09",
   "metadata": {},
   "source": [
    "##### NULL and ALTERNATE HYPOTHESIS\n",
    "\n",
    "Let $\\mu$ be the mean delivery time of the products.\n",
    "\n",
    "The manager will test the null hypothesis\n",
    "\n",
    ">$H_0: \\mu = 5$\n",
    "\n",
    "against the alternate hypothesis\n",
    "\n",
    "> $H_a: \\mu > 5$"
   ]
  },
  {
   "cell_type": "code",
   "execution_count": null,
   "id": "d9acc829",
   "metadata": {},
   "outputs": [],
   "source": [
    "#Finding Z-Stastics\n",
    "# set the values of population mean and population standard deviation to 5 and 1.3 respectively\n",
    "mu, sigma = 5, 1.3\n",
    "\n",
    "# set the value sample mean to 5.25\n",
    "x_bar = 5.25\n",
    "\n",
    "# calculate the test statistic\n",
    "test_stat = (x_bar - mu) / (sigma/np.sqrt(45))\n",
    "test_stat"
   ]
  },
  {
   "cell_type": "code",
   "execution_count": null,
   "id": "7043bb9c",
   "metadata": {},
   "outputs": [],
   "source": [
    "# calculate the probability using the cdf() function\n",
    "1 - norm.cdf(test_stat)"
   ]
  },
  {
   "cell_type": "markdown",
   "id": "02d202db",
   "metadata": {},
   "source": [
    "### One-tailed and Two-tailed Tests¶"
   ]
  },
  {
   "cell_type": "markdown",
   "id": "f75dbaf2",
   "metadata": {},
   "source": [
    "Suppose a soft-drink manufacturer's most selling product is 600 ml coke with a standard deviation of 50 ml.\n",
    "\n",
    "A customer would like to test whether there is at least 600 ml coke in the bottle. He doubts that the amount of coke in the bottle is less than 600 ml.\n",
    "\n",
    "The null hypothesis formed by the customer is\n",
    "\n",
    ">$H_0: \\mu = 600$\n",
    "\n",
    "against the alternative hypothesis\n",
    "\n",
    "> $H_a: \\mu < 600$\n",
    "\n",
    "However, the quality control team wants exactly 600 ml coke in the bottle. The team wants to ensure that the amount of coke in the bottle is not different from 600 ml.\n",
    "\n",
    "The null hypothesis formed by the quality control team is\n",
    "\n",
    ">$H_0: \\mu = 600$\n",
    "\n",
    "against the alternative hypothesis\n",
    "\n",
    "> $H_a: \\mu \\neq 600$\n",
    "\n",
    "Thus, the choice of one-sided vs two-sided alternative hypothesis depends on the nature of the problem.\n",
    "\n",
    "\n",
    "It is known from experience that the mean amount of coke in a bottle is 600 ml with a standard deviation of 50 ml.\n",
    "\n",
    "You have collected 36 randomly sampled bottles. The mean amount of coke in the 36 samples is 580 ml.\n",
    "\n",
    "You intend to test whether the amount of coke in the bottle is different from 600 ml using 0.05 level of significance. Do you have enough Statistical evidence for it?"
   ]
  },
  {
   "cell_type": "markdown",
   "id": "b7328655",
   "metadata": {},
   "source": [
    "##### Z-test Satisfication?"
   ]
  },
  {
   "cell_type": "code",
   "execution_count": null,
   "id": "264f4550",
   "metadata": {},
   "outputs": [],
   "source": [
    "# set the values of population mean and standard deviation to 600 and 50 respectively\n",
    "mu, sigma = 600, 50\n",
    "\n",
    "# set the value sample mean to 580\n",
    "x_bar = 580\n",
    "\n",
    "# calculate the test statistic\n",
    "test_stat = (x_bar - mu) / (sigma/np.sqrt(36))\n",
    "test_stat"
   ]
  },
  {
   "cell_type": "code",
   "execution_count": null,
   "id": "2c8a2682",
   "metadata": {},
   "outputs": [],
   "source": [
    "#Calcualting Cirtial Values for 2 tail test\n",
    "# import the required function\n",
    "from scipy.stats import norm\n",
    "\n",
    "# find the critical values\n",
    "critical_val1 = norm.ppf(1-(0.05/2))\n",
    "critical_val2 = norm.ppf(0.05/2)"
   ]
  },
  {
   "cell_type": "code",
   "execution_count": null,
   "id": "acd24f79",
   "metadata": {},
   "outputs": [],
   "source": [
    "print(critical_val1)"
   ]
  },
  {
   "cell_type": "code",
   "execution_count": null,
   "id": "d002181b",
   "metadata": {},
   "outputs": [],
   "source": [
    "print(critical_val2)"
   ]
  },
  {
   "cell_type": "code",
   "execution_count": null,
   "id": "0d6a02c1",
   "metadata": {},
   "outputs": [],
   "source": [
    "#Calcualting Cirtial Value for 1 tail test\n",
    "# import the required function\n",
    "from scipy.stats import norm\n",
    "\n",
    "# find the critical value\n",
    "critical_val = norm.ppf(0.05)\n",
    "critical_val"
   ]
  },
  {
   "cell_type": "markdown",
   "id": "b07d2e67",
   "metadata": {},
   "source": [
    "### One Sample t-test"
   ]
  },
  {
   "cell_type": "markdown",
   "id": "139515fa",
   "metadata": {},
   "source": [
    "Experian Marketing Services reported that the typical American spends a mean of 144 minutes (2.4 hours) per day accessing the Internet via a mobile device. (Source: The 2014 Digital Marketer, available at ex.pn/IkXJjfX.) In order to test the validity of this statement, you select a sample of 30 friends and family. The results for the time spent per day accessing the Internet via mobile device (in minutes) are stored in InternetMobileTime\n",
    "\n",
    "a. Is there evidence that the population mean time spent per day accessing the Internet via mobile device is different from 144 minutes? Use the p-value approach and a level of significance of 0.05."
   ]
  },
  {
   "cell_type": "code",
   "execution_count": null,
   "id": "2fe565fb",
   "metadata": {},
   "outputs": [],
   "source": [
    "#Importing necessary Libraries\n",
    "import numpy as np\n",
    "import pandas as pd\n",
    "import math\n",
    "from scipy import stats\n",
    "from scipy.stats import ttest_1samp"
   ]
  },
  {
   "cell_type": "code",
   "execution_count": null,
   "id": "f54b0486",
   "metadata": {},
   "outputs": [],
   "source": [
    "mydata = pd.read_csv('Internet Mobile Time.csv')\n",
    "mydata.head()"
   ]
  },
  {
   "cell_type": "markdown",
   "id": "b0a62210",
   "metadata": {},
   "source": [
    "##### Step 1: Define null and alternative hypotheses"
   ]
  },
  {
   "cell_type": "markdown",
   "id": "996b431e",
   "metadata": {},
   "source": [
    "* $H_0$: $\\mu$ = 144\n",
    "* $H_A$: $\\mu$ $\\neq$ 144"
   ]
  },
  {
   "cell_type": "markdown",
   "id": "ea6d792d",
   "metadata": {},
   "source": [
    "##### Step 2: Decide the significance level"
   ]
  },
  {
   "cell_type": "markdown",
   "id": "2690550e",
   "metadata": {},
   "source": [
    "Here we select $\\alpha$ = 0.05."
   ]
  },
  {
   "cell_type": "code",
   "execution_count": null,
   "id": "fec0fb01",
   "metadata": {},
   "outputs": [],
   "source": [
    "print(\"The sample size for this problem is\",len(mydata))"
   ]
  },
  {
   "cell_type": "markdown",
   "id": "83ec39bb",
   "metadata": {},
   "source": [
    "##### Step 3: Identify the test statistic"
   ]
  },
  {
   "cell_type": "markdown",
   "id": "1828076a",
   "metadata": {},
   "source": [
    "We do not know the population standard deviation and n = 30. So we use the t distribution and the $t_{STAT}$ test statistic.m"
   ]
  },
  {
   "cell_type": "markdown",
   "id": "01ff222e",
   "metadata": {},
   "source": [
    "##### Step 4: Calculate the p - value and test statistic"
   ]
  },
  {
   "cell_type": "code",
   "execution_count": null,
   "id": "ca726c31",
   "metadata": {},
   "outputs": [],
   "source": [
    "# one sample t-test\n",
    "# null hypothesis: expected value = 144\n",
    "t_statistic, p_value = ttest_1samp(mydata, 144)\n",
    "print('One sample t test \\nt statistic: {0} p value: {1} '.format(t_statistic, p_value))"
   ]
  },
  {
   "cell_type": "markdown",
   "id": "b0f0405c",
   "metadata": {},
   "source": [
    "##### Step 5: Decide to reject or accept null hypothesis"
   ]
  },
  {
   "cell_type": "code",
   "execution_count": null,
   "id": "be19ff0d",
   "metadata": {},
   "outputs": [],
   "source": [
    "# p_value < 0.05 => alternative hypothesis:\n",
    "\n",
    "alpha_value = 0.05 # Level of significance\n",
    "print('Level of significance: %.2f' %alpha_value)\n",
    "if p_value < alpha_value: \n",
    "    print('We have evidence to reject the null hypothesis since p value < Level of significance')\n",
    "else:\n",
    "    print('We have no evidence to reject the null hypothesis since p value > Level of significance') \n",
    "\n",
    "print (\"Our one-sample t-test p-value=\", p_value)"
   ]
  },
  {
   "cell_type": "markdown",
   "id": "e49e4167",
   "metadata": {},
   "source": [
    "In this example, p value is 0.23055327 and it is greater than 5% level of significance\n",
    "\n",
    "So the statistical decision is failing to reject the null hypothesis at 5% level of significance.\n",
    "\n",
    "##### So at 95% confidence level, there is  sufficient evidence  to prove that mean time spent on the internet is equal to  144 minutes. "
   ]
  },
  {
   "cell_type": "markdown",
   "id": "8a4336ee",
   "metadata": {},
   "source": [
    "### 2 Sample t-test"
   ]
  },
  {
   "cell_type": "markdown",
   "id": "c92894bd",
   "metadata": {},
   "source": [
    "###### Independent Two Sample T-Test"
   ]
  },
  {
   "cell_type": "markdown",
   "id": "357383a1",
   "metadata": {},
   "source": [
    "A hotel manager looks to enhance the initial impressions that hotel guests have when they check in. Contributing to initial impressions is the time it takes to deliver a guest’s luggage to the room after check-in. A random sample of 20 deliveries on a particular day were selected in Wing A of the hotel, and a random sample of 20 deliveries were selected in Wing B. The results are stored in Luggage . Analyze the data and determine whether there is a difference between the mean delivery times in the two wings of the hotel. (Use $\\alpha$ = 0.05)"
   ]
  },
  {
   "cell_type": "code",
   "execution_count": null,
   "id": "9a1afe45",
   "metadata": {},
   "outputs": [],
   "source": [
    "mydata = pd.read_csv('Luggage.csv')\n",
    "mydata.head()"
   ]
  },
  {
   "cell_type": "markdown",
   "id": "14d25052",
   "metadata": {},
   "source": [
    "##### Step 1: Define null and alternative hypotheses"
   ]
  },
  {
   "cell_type": "markdown",
   "id": "7b99ac1a",
   "metadata": {},
   "source": [
    "* $H_0$: $\\mu{A}$ - $\\mu{B}$ =      0 i.e        $\\mu{A}$ = $\\mu{B}$\n",
    "* $H_A$: $\\mu{A}$ - $\\mu{B}$ $\\neq$  0 i.e      $\\mu{A}$ $\\neq$ $\\mu{B}$"
   ]
  },
  {
   "cell_type": "markdown",
   "id": "b533742a",
   "metadata": {},
   "source": [
    "##### Step 2: Decide the significance level"
   ]
  },
  {
   "cell_type": "markdown",
   "id": "03fb6573",
   "metadata": {},
   "source": [
    "Here we select $\\alpha$ = 0.05 and the population standard deviation is not known."
   ]
  },
  {
   "cell_type": "markdown",
   "id": "b2137df7",
   "metadata": {},
   "source": [
    "##### Step 3: Identify the test statistic"
   ]
  },
  {
   "cell_type": "markdown",
   "id": "1c356d7f",
   "metadata": {},
   "source": [
    "* We have two samples and we do not know the population standard deviation.\n",
    "* Sample sizes for both samples are  same.\n",
    "* The sample is not a large sample, n < 30. So you use the t distribution and the $t_{STAT}$ test statistic for two sample unpaired test."
   ]
  },
  {
   "cell_type": "markdown",
   "id": "aca41ede",
   "metadata": {},
   "source": [
    "##### Step 4: Calculate the p - value and test statistic"
   ]
  },
  {
   "cell_type": "code",
   "execution_count": null,
   "id": "bfe2d3e8",
   "metadata": {},
   "outputs": [],
   "source": [
    "t_statistic, p_value  = stats.ttest_ind(mydata['WingA'],mydata['WingB'])\n",
    "print('tstat',t_statistic)    \n",
    "print('P Value',p_value) "
   ]
  },
  {
   "cell_type": "markdown",
   "id": "53a354fb",
   "metadata": {},
   "source": [
    "##### Step 5:  Decide to reject or accept null hypothesis"
   ]
  },
  {
   "cell_type": "code",
   "execution_count": null,
   "id": "2dfda610",
   "metadata": {},
   "outputs": [],
   "source": [
    "print (\"two-sample t-test p-value=\", p_value)\n",
    "\n",
    "alpha_level = 0.05\n",
    "\n",
    "if p_value < alpha_level:\n",
    "    print('We have enough evidence to reject the null hypothesis in favour of alternative hypothesis')\n",
    "    print('We conclude that the mean time to deliver luggages in of both the wings of the hotel are not same.')\n",
    "else:\n",
    "    print('We do not have enough evidence to reject the null hypothesis in favour of alternative hypothesis')\n",
    "    print('We conclude that mean time to deliver luggages in of both the wings of the hotel are same.')"
   ]
  },
  {
   "cell_type": "markdown",
   "id": "8a83f7be",
   "metadata": {},
   "source": [
    "### Paired T-Test¶"
   ]
  },
  {
   "cell_type": "markdown",
   "id": "57f354eb",
   "metadata": {},
   "source": [
    "The file Concrete contains the compressive strength, in thousands of pounds per square inch (psi), of 40 samples of concrete taken two and seven days after pouring. (Data extracted from O. Carrillo-Gamboa and R. F. Gunst, “Measurement-Error-Model Collinearities,” Technometrics, 34 (1992): 454–464.)\n",
    "\n",
    "At the 0.01 level of significance, is there evidence that the mean strength is lower at two days than at seven days?"
   ]
  },
  {
   "cell_type": "code",
   "execution_count": null,
   "id": "2c2c579b",
   "metadata": {},
   "outputs": [],
   "source": [
    "mydata = pd.read_csv('Concrete.csv')\n",
    "mydata.head()"
   ]
  },
  {
   "cell_type": "markdown",
   "id": "1069bbc3",
   "metadata": {},
   "source": [
    "* $H_0$: $\\mu_{2}$ - $\\mu_{7}$ $\\geq$  0\n",
    "* $H_A$: $\\mu_{2}$ - $\\mu_{7}$ <  0"
   ]
  },
  {
   "cell_type": "markdown",
   "id": "2dec1571",
   "metadata": {},
   "source": [
    " $\\alpha$ = 0.01"
   ]
  },
  {
   "cell_type": "markdown",
   "id": "60ec6e00",
   "metadata": {},
   "source": [
    "use the t distribution and the $t_{STAT}$ test statistic for two sample paired test."
   ]
  },
  {
   "cell_type": "code",
   "execution_count": null,
   "id": "83022cf0",
   "metadata": {},
   "outputs": [],
   "source": [
    "t_statistic, p_value =  stats.ttest_rel(mydata['TwoDays'],mydata['SevenDays'])\n",
    "print('tstat  %1.3f' % t_statistic)    \n",
    "print(\"p-value for one-tail:\", p_value)"
   ]
  },
  {
   "cell_type": "code",
   "execution_count": null,
   "id": "7171522e",
   "metadata": {},
   "outputs": [],
   "source": [
    "print (\"Paired two-sample t-test p-value=\", p_value/2)\n",
    "\n",
    "alpha_level = 0.01\n",
    "\n",
    "if (p_value/2) < alpha_level:\n",
    "    print('We have enough evidence to reject the null hypothesis in favour of alternative hypothesis')\n",
    "    \n",
    "else:\n",
    "    print('We do not have enough evidence to reject the null hypothesis in favour of alternative hypothesis')"
   ]
  },
  {
   "cell_type": "markdown",
   "id": "e31dd7e6",
   "metadata": {},
   "source": [
    "### Chi-Square Test"
   ]
  },
  {
   "cell_type": "code",
   "execution_count": null,
   "id": "b2be1d76",
   "metadata": {},
   "outputs": [],
   "source": [
    "df = pd.DataFrame({'Promoted': [15, 16], 'Not-promoted': [9, 15]}, index = ['Company A', 'Company B'])\n",
    "df"
   ]
  },
  {
   "cell_type": "markdown",
   "id": "78a5ef46",
   "metadata": {},
   "source": [
    "* $H_0$: Promotions are dependent on Company type\n",
    "* $H_A$: Promotions are independent of Company type"
   ]
  },
  {
   "cell_type": "markdown",
   "id": "f322188d",
   "metadata": {},
   "source": [
    "α= 0.05 as per 95% Confidence Level"
   ]
  },
  {
   "cell_type": "code",
   "execution_count": null,
   "id": "25fcddca",
   "metadata": {},
   "outputs": [],
   "source": [
    "chi2, p_val, dof, exp_freq = stats.chi2_contingency(df, correction = False)\n",
    "chi2, p_val, dof, exp_freq"
   ]
  },
  {
   "cell_type": "markdown",
   "id": "92e573e3",
   "metadata": {},
   "source": [
    "Since the pvalue is > 0.05, therefore, at 95% confidence we fail to reject the null hypothesis which implies the management is not biased in favor of employees originally belonging to company A."
   ]
  },
  {
   "cell_type": "markdown",
   "id": "1c7b9a83",
   "metadata": {},
   "source": [
    "### ANOVA test"
   ]
  },
  {
   "cell_type": "markdown",
   "id": "516d1100",
   "metadata": {},
   "source": [
    "Traffic management inspector in a certain city wants to understand whether carbon emissions from different cars are different. The inspector has reasons to believe that Fuel type may be the factors responsible for differences in carbon emission.\n",
    "\n",
    "For this purpose, the inspector has taken random samples from all registered cars on the road in that city and would like to test if the amount of carbon emission release depends on fuel type at 5% significance level."
   ]
  },
  {
   "cell_type": "code",
   "execution_count": null,
   "id": "e6cafbbf",
   "metadata": {},
   "outputs": [],
   "source": [
    "aovdata = pd.read_csv('AOVData.csv')\n",
    "aovdata.head()"
   ]
  },
  {
   "cell_type": "markdown",
   "id": "4f2c901f",
   "metadata": {},
   "source": [
    "Let $\\mu_1, \\mu_2, \\mu_3$ be the means of carbon dioxide emissions for fuel type E85, LPG and Petrol respectively.\n",
    "\n",
    ">$H_0: \\mu_1 = \\mu_2 = \\mu_3$\n",
    "\n",
    ">$H_a: $ At least one carbon emission level is different from the rest.\n"
   ]
  },
  {
   "cell_type": "markdown",
   "id": "50e4b397",
   "metadata": {},
   "source": [
    "Now, the normality and equality of variance assumptions need to be checked. \n",
    "\n",
    "* For testing of normality, Shapiro-Wilk’s test is applied to the response variable.\n",
    "\n",
    "* For equality of variance, Levene test is applied to the response variable."
   ]
  },
  {
   "cell_type": "markdown",
   "id": "68857d27",
   "metadata": {},
   "source": [
    "###### Shapiro-Wilk’s test\n",
    "\n",
    "Null hypothesis\n",
    "$H_0:$ Carbon emission follows a normal distribution against\n",
    "\n",
    "Alternative hypothesis\n",
    "$H_a:$ Carbon emission does not follow a normal distribution"
   ]
  },
  {
   "cell_type": "code",
   "execution_count": null,
   "id": "714bbc9d",
   "metadata": {},
   "outputs": [],
   "source": [
    "# find the p-value\n",
    "w, p_value = stats.shapiro(aovdata['co_emissions']) \n",
    "print('The p-value is', p_value)"
   ]
  },
  {
   "cell_type": "markdown",
   "id": "2d5dd86f",
   "metadata": {},
   "source": [
    "Since p-value of the test is very large, we fail to reject the null hypothesis that the response follows the normal distribution."
   ]
  },
  {
   "cell_type": "markdown",
   "id": "2645714c",
   "metadata": {},
   "source": [
    "###### Levene’s test\n",
    "\n",
    "Null hypothesis\n",
    "$H_0$: All the population variances are equal\n",
    "\n",
    "Alternative hypothesis\n",
    "$H_a$: At least one variance is different from the rest"
   ]
  },
  {
   "cell_type": "code",
   "execution_count": null,
   "id": "1eb6d364",
   "metadata": {},
   "outputs": [],
   "source": [
    "from scipy.stats import levene\n",
    "statistic, p_value = levene( aovdata['co_emissions'][aovdata['fuel_type']==\"Petrol\"], \n",
    "                                   aovdata['co_emissions'][aovdata['fuel_type']==\"E85\"], \n",
    "                                   aovdata['co_emissions'][aovdata['fuel_type']==\"LPG\"])\n",
    "# find the p-value\n",
    "print('The p-value is', p_value)"
   ]
  },
  {
   "cell_type": "markdown",
   "id": "c4d5d563",
   "metadata": {},
   "source": [
    "Since the p-value is large, we fail to reject the null hypothesis of homogeneity of variances."
   ]
  },
  {
   "cell_type": "markdown",
   "id": "33e414f1",
   "metadata": {},
   "source": [
    "##### Performing ANOVA"
   ]
  },
  {
   "cell_type": "code",
   "execution_count": null,
   "id": "0ec69106",
   "metadata": {},
   "outputs": [],
   "source": [
    "from scipy.stats import f_oneway\n",
    "\n",
    "# perform one-way anova test\n",
    "test_stat, p_value = f_oneway(aovdata.loc[aovdata['fuel_type'] == 'Petrol', 'co_emissions'],\n",
    "                              aovdata.loc[aovdata['fuel_type'] == 'E85', 'co_emissions'],\n",
    "                              aovdata.loc[aovdata['fuel_type'] == 'LPG', 'co_emissions'])\n",
    "print('The p-value is ' + str(p_value))"
   ]
  },
  {
   "cell_type": "code",
   "execution_count": null,
   "id": "7b926b03",
   "metadata": {},
   "outputs": [],
   "source": []
  }
 ],
 "metadata": {
  "kernelspec": {
   "display_name": "Python 3 (ipykernel)",
   "language": "python",
   "name": "python3"
  },
  "language_info": {
   "codemirror_mode": {
    "name": "ipython",
    "version": 3
   },
   "file_extension": ".py",
   "mimetype": "text/x-python",
   "name": "python",
   "nbconvert_exporter": "python",
   "pygments_lexer": "ipython3",
   "version": "3.9.12"
  }
 },
 "nbformat": 4,
 "nbformat_minor": 5
}
