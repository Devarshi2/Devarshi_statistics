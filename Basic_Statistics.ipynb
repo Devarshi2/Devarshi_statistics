{
 "cells": [
  {
   "cell_type": "code",
   "execution_count": 6,
   "metadata": {},
   "outputs": [],
   "source": [
    "import pandas as pd"
   ]
  },
  {
   "cell_type": "code",
   "execution_count": 7,
   "metadata": {},
   "outputs": [
    {
     "name": "stdout",
     "output_type": "stream",
     "text": [
      "         country  beer_servings  spirit_servings  wine_servings  \\\n",
      "0    Afghanistan              0                0              0   \n",
      "1        Albania             89              132             54   \n",
      "2        Algeria             25                0             14   \n",
      "3        Andorra            245              138            312   \n",
      "4         Angola            217               57             45   \n",
      "..           ...            ...              ...            ...   \n",
      "188    Venezuela            333              100              3   \n",
      "189      Vietnam            111                2              1   \n",
      "190        Yemen              6                0              0   \n",
      "191       Zambia             32               19              4   \n",
      "192     Zimbabwe             64               18              4   \n",
      "\n",
      "     total_litres_of_pure_alcohol      continent  \n",
      "0                             0.0           Asia  \n",
      "1                             4.9         Europe  \n",
      "2                             0.7         Africa  \n",
      "3                            12.4         Europe  \n",
      "4                             5.9         Africa  \n",
      "..                            ...            ...  \n",
      "188                           7.7  South America  \n",
      "189                           2.0           Asia  \n",
      "190                           0.1           Asia  \n",
      "191                           2.5         Africa  \n",
      "192                           4.7         Africa  \n",
      "\n",
      "[193 rows x 6 columns]\n"
     ]
    }
   ],
   "source": [
    "df = pd.read_csv(\"drinks.csv\")\n",
    "print(df)"
   ]
  },
  {
   "cell_type": "code",
   "execution_count": 8,
   "metadata": {},
   "outputs": [],
   "source": [
    "upper = df[\"beer_servings\"].quantile(0.90)\n",
    "lower = df[\"beer_servings\"].quantile(0.10)"
   ]
  },
  {
   "cell_type": "code",
   "execution_count": 9,
   "metadata": {},
   "outputs": [],
   "source": [
    "df_clear = df[(df[\"beer_servings\"]<0.90) & (df[\"beer_servings\"]>0.10)]"
   ]
  },
  {
   "cell_type": "code",
   "execution_count": 10,
   "metadata": {},
   "outputs": [],
   "source": [
    "df = pd.read_csv(\"drinks.csv\")"
   ]
  },
  {
   "cell_type": "code",
   "execution_count": 11,
   "metadata": {},
   "outputs": [],
   "source": [
    "Q1 = df[\"beer_servings\"].quantile(0.75)\n",
    "Q3 = df[\"beer_servings\"].quantile(0.25)"
   ]
  },
  {
   "cell_type": "code",
   "execution_count": 12,
   "metadata": {},
   "outputs": [
    {
     "name": "stdout",
     "output_type": "stream",
     "text": [
      "-168.0\n"
     ]
    }
   ],
   "source": [
    "Iqr= Q3-Q1\n",
    "print(Iqr)"
   ]
  },
  {
   "cell_type": "code",
   "execution_count": 13,
   "metadata": {},
   "outputs": [
    {
     "name": "stdout",
     "output_type": "stream",
     "text": [
      "-168.0\n"
     ]
    }
   ],
   "source": [
    "Iqr= Q3-Q1\n",
    "print(Iqr)"
   ]
  },
  {
   "cell_type": "code",
   "execution_count": 14,
   "metadata": {},
   "outputs": [
    {
     "name": "stdout",
     "output_type": "stream",
     "text": [
      "0     -1.052338\n",
      "1     -0.170108\n",
      "2     -0.804521\n",
      "3      1.376272\n",
      "4      1.098717\n",
      "         ...   \n",
      "188    2.248590\n",
      "189    0.047971\n",
      "190   -0.992862\n",
      "191   -0.735132\n",
      "192   -0.417925\n",
      "Name: beer_servings, Length: 193, dtype: float64\n"
     ]
    }
   ],
   "source": [
    "from scipy import stats \n",
    "x = df[\"beer_z_score\"] = stats.zscore(df[\"beer_servings\"])\n",
    "print(x)"
   ]
  },
  {
   "cell_type": "markdown",
   "metadata": {},
   "source": [
    "3 types to take conditions \n",
    "1. loc\n",
    "2.[] extract\n",
    "3. between function"
   ]
  },
  {
   "cell_type": "code",
   "execution_count": 15,
   "metadata": {},
   "outputs": [
    {
     "name": "stdout",
     "output_type": "stream",
     "text": [
      "[0, 1, 2, 3, 4, 5, 6, 7, 8]\n"
     ]
    }
   ],
   "source": [
    "a = list(range(10))\n",
    "print(a[:-1])"
   ]
  },
  {
   "cell_type": "code",
   "execution_count": 16,
   "metadata": {},
   "outputs": [
    {
     "name": "stdout",
     "output_type": "stream",
     "text": [
      "[9, 8, 7, 6, 5, 4, 3, 2, 1, 0]\n",
      "[]\n"
     ]
    }
   ],
   "source": [
    "print(a[::-1])\n",
    "print(a[:-1:-1])"
   ]
  }
 ],
 "metadata": {
  "kernelspec": {
   "display_name": "Python 3",
   "language": "python",
   "name": "python3"
  },
  "language_info": {
   "codemirror_mode": {
    "name": "ipython",
    "version": 3
   },
   "file_extension": ".py",
   "mimetype": "text/x-python",
   "name": "python",
   "nbconvert_exporter": "python",
   "pygments_lexer": "ipython3",
   "version": "3.10.10"
  }
 },
 "nbformat": 4,
 "nbformat_minor": 2
}
